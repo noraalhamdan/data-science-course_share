{
 "cells": [
  {
   "cell_type": "markdown",
   "id": "c9d60a3b-0f0d-40a8-9717-ff32e9905c83",
   "metadata": {},
   "source": [
    "# title of notebook\n",
    "Data Science Tools"
   ]
  },
  {
   "cell_type": "markdown",
   "id": "c5c28657-1531-413c-bce7-08e2a00022ae",
   "metadata": {},
   "source": [
    "# introduction\n",
    "This course is designed for all learners who want to become data scientists. As a data scientist, you will be working with data. This course will provide you knowledge about various tools that you can use to analyze data and derive conclusions. You can also go through the course with or without programming knowledge. A data scientist’s toolkit consists of many tools and in this course, you will explore a variety of them in the following modules: Module 1: Overview of Data Science Tools Module 2: Languages of Data Science Module 3: Libraries, APIs, Datasets, and Models Module 4: Jupyter Project Module 5: RStudio and GitHub Module 6: Final Project - Create a Jupyter Notebook and Module 7 (an optional module): IBM Tools for Data Science Let’s now get some insight into what each module offers."
   ]
  },
  {
   "cell_type": "markdown",
   "id": "7aeda86d-dbdb-4e6b-aefb-831d8ad3151f",
   "metadata": {},
   "source": [
    "# list data science languages.\n",
    "1. Python\n",
    "2. R\n",
    "3. SQL\n",
    "4. Java\n",
    "5. Julia\n",
    "6. Scala\n",
    "7. C/C++\n",
    "8. JavaScript"
   ]
  },
  {
   "cell_type": "markdown",
   "id": "1b0171aa-c77d-4518-88bb-55efbe10e09d",
   "metadata": {},
   "source": [
    "# list data science libraries\n",
    "- Python libraries: Scientific Computing Libraries in Python Visualization Libraries in Python High-Level- Machine Learning and Deep Learning Libraries (High-level means you don’t have to worry about details making studying or improving difficult.) And finally, Deep Learning Libraries in Python, and Libraries used in other languages \n",
    "\n",
    "- scientific computing libraries contain built-in modules providing different functionalities, which you can use directly.\n",
    "\n",
    "- Panda, NumPy "
   ]
  },
  {
   "cell_type": "markdown",
   "id": "c9b386b6-4945-43a6-8840-4c44b99d8b6a",
   "metadata": {},
   "source": [
    "## table of Data Science tools. \n",
    "\n",
    "| Number | Name |\n",
    "| -------------| ------ |\n",
    "| 1 | Python |\n",
    "| 2 | SQL |\n",
    "| 3 | Java |"
   ]
  },
  {
   "cell_type": "markdown",
   "id": "b42d9f6a-fa14-4445-945a-828fe6d6069c",
   "metadata": {},
   "source": [
    "# introducing arithmetic expression examples\n",
    "# Multiplication operation\n",
    "2.5*3.5\n",
    "# Addition operation\n",
    "2+2\n"
   ]
  },
  {
   "cell_type": "code",
   "execution_count": 2,
   "id": "3cf2a850-eae8-4dba-89b0-c6f87d20e07f",
   "metadata": {
    "tags": []
   },
   "outputs": [
    {
     "data": {
      "text/plain": [
       "4"
      ]
     },
     "execution_count": 2,
     "metadata": {},
     "output_type": "execute_result"
    }
   ],
   "source": [
    "# Addition operation\n",
    "2+2\n"
   ]
  },
  {
   "cell_type": "code",
   "execution_count": 3,
   "id": "3c768b24-6205-4592-95a5-78369e0ea2ee",
   "metadata": {
    "tags": []
   },
   "outputs": [
    {
     "data": {
      "text/plain": [
       "8.75"
      ]
     },
     "execution_count": 3,
     "metadata": {},
     "output_type": "execute_result"
    }
   ],
   "source": [
    "# Multiplication operation\n",
    "2.5*3.5"
   ]
  },
  {
   "cell_type": "code",
   "execution_count": 4,
   "id": "45d49b82-60a5-4eb2-b6cd-d8c2d6ede4ac",
   "metadata": {
    "tags": []
   },
   "outputs": [],
   "source": [
    "minutes = 330 % 60\n",
    "hours = 330 // 60"
   ]
  },
  {
   "cell_type": "markdown",
   "id": "cec7e886-b731-4b99-bc24-aba1feb992af",
   "metadata": {},
   "source": [
    "## Insert a markdown cell to list Objectives\n",
    "1. First Objective\n",
    "2. Second Objective\n",
    "3. Third Objective\n",
    "4. Fourth Objective"
   ]
  },
  {
   "cell_type": "markdown",
   "id": "f2a2454d-5e36-47e5-a407-3e67d730ad35",
   "metadata": {},
   "source": [
    "## Author’s name\n",
    "Nora"
   ]
  },
  {
   "cell_type": "code",
   "execution_count": null,
   "id": "861d8c18-2ccd-446c-aa40-213b81fd7b79",
   "metadata": {},
   "outputs": [],
   "source": []
  }
 ],
 "metadata": {
  "kernelspec": {
   "display_name": "Python",
   "language": "python",
   "name": "conda-env-python-py"
  },
  "language_info": {
   "codemirror_mode": {
    "name": "ipython",
    "version": 3
   },
   "file_extension": ".py",
   "mimetype": "text/x-python",
   "name": "python",
   "nbconvert_exporter": "python",
   "pygments_lexer": "ipython3",
   "version": "3.7.12"
  }
 },
 "nbformat": 4,
 "nbformat_minor": 5
}
